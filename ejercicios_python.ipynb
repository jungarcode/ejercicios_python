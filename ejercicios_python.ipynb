{
  "nbformat": 4,
  "nbformat_minor": 0,
  "metadata": {
    "colab": {
      "name": "ejercicios python",
      "provenance": [],
      "collapsed_sections": [],
      "include_colab_link": true
    },
    "kernelspec": {
      "name": "python3",
      "display_name": "Python 3"
    },
    "language_info": {
      "name": "python"
    }
  },
  "cells": [
    {
      "cell_type": "markdown",
      "metadata": {
        "id": "view-in-github",
        "colab_type": "text"
      },
      "source": [
        "<a href=\"https://colab.research.google.com/github/jungarcode/ejercicios_python/blob/main/ejercicios_python.ipynb\" target=\"_parent\"><img src=\"https://colab.research.google.com/assets/colab-badge.svg\" alt=\"Open In Colab\"/></a>"
      ]
    },
    {
      "cell_type": "markdown",
      "source": [
        "# CONDICIONALES\n"
      ],
      "metadata": {
        "id": "j48PZw4yrvkS"
      }
    },
    {
      "cell_type": "markdown",
      "source": [
        "##Ejercicio 1:\n",
        "\n",
        "Escribir un programa que pregunte al usuario su edad y muestre por pantalla si es mayor de edad o no.\n"
      ],
      "metadata": {
        "id": "qjAL9ZiVbtfi"
      }
    },
    {
      "cell_type": "code",
      "source": [
        "edad = int(input(\"Inserte su edad: \" ))\n",
        "\n",
        "if edad <18:\n",
        "    print(\"es menor de edad\")\n",
        "else:\n",
        "    print(\"es mayor de edad\")"
      ],
      "metadata": {
        "colab": {
          "base_uri": "https://localhost:8080/"
        },
        "id": "v47s39Gyb6nx",
        "outputId": "4ab0660c-2dcc-4d15-b264-0c9a3bed0403"
      },
      "execution_count": null,
      "outputs": [
        {
          "output_type": "stream",
          "name": "stdout",
          "text": [
            "Inserte su edad: 20\n",
            "es mayor de edad\n"
          ]
        }
      ]
    },
    {
      "cell_type": "markdown",
      "source": [
        "##Ejercicio 2:\n",
        "\n",
        "Escribir un programa que almacene la cadena de caracteres contraseña en una variable, pregunte al usuario por la contraseña e imprima por pantalla si la contraseña introducida por el usuario coincide con la guardada en la variable sin tener en cuenta mayúsculas y minúsculas"
      ],
      "metadata": {
        "id": "mrV-uDMYcSlW"
      }
    },
    {
      "cell_type": "code",
      "source": [
        "contraseña = \"hola\"\n",
        "\n",
        "ent = input(\"Introduce contraseña: \")\n",
        "\n",
        "if ent == contraseña.lower():\n",
        "  print(\"las contraseñas coinciden\")\n",
        "else:\n",
        "  print(\"las contraseñas no coinciden\")"
      ],
      "metadata": {
        "colab": {
          "base_uri": "https://localhost:8080/"
        },
        "id": "EA7qR0zeci0u",
        "outputId": "08221f06-250b-4afd-d15c-1fb7a31f886a"
      },
      "execution_count": null,
      "outputs": [
        {
          "output_type": "stream",
          "name": "stdout",
          "text": [
            "Introduce contraseña: hola\n",
            "las contraseñas coinciden\n"
          ]
        }
      ]
    },
    {
      "cell_type": "markdown",
      "source": [
        "##Ejercicio 3:\n",
        "\n",
        "Escribir un programa que pida al usuario dos números y muestre por pantalla su división. Si el divisor es cero el programa debe mostrar un error.\n",
        "\n",
        "\n"
      ],
      "metadata": {
        "id": "1sCc2uxxew0y"
      }
    },
    {
      "cell_type": "code",
      "source": [
        "num1 = int(input(\"Introduce primer numero: \"))\n",
        "num2 = int(input(\"Introduce segundo numero: \"))\n",
        "\n",
        "if num2 == 0:\n",
        "  print(\"error no se puede dividir entre 0\")\n",
        "else:\n",
        "  print(num1/num2)\n"
      ],
      "metadata": {
        "colab": {
          "base_uri": "https://localhost:8080/"
        },
        "id": "IExU0gxRe_F-",
        "outputId": "ca4d83f3-5989-4453-ae88-264fed25fb32"
      },
      "execution_count": null,
      "outputs": [
        {
          "output_type": "stream",
          "name": "stdout",
          "text": [
            "Introduce primer numero: 10\n",
            "Introduce segundo numero: 0\n",
            "error no se puede dividir entre 0\n"
          ]
        }
      ]
    },
    {
      "cell_type": "markdown",
      "source": [
        "##Ejercicio 4:\n",
        "\n",
        "Escribir un programa que pida al usuario un número entero y muestre por pantalla si es par o impar."
      ],
      "metadata": {
        "id": "BVO0xLOihSDE"
      }
    },
    {
      "cell_type": "code",
      "source": [
        "num = int(input(\"Introduce un numero entero: \"))\n",
        "\n",
        "if num%2 == 0:\n",
        "  print(\"el numero \" + str(num) + \" es par\")\n",
        "else:\n",
        "  print(\"el numero \" + str(num) + \" es impar\")"
      ],
      "metadata": {
        "colab": {
          "base_uri": "https://localhost:8080/"
        },
        "id": "9txOVAc2gq2q",
        "outputId": "ce315312-4b35-4834-b5e4-d3efbb7ae4e4"
      },
      "execution_count": null,
      "outputs": [
        {
          "output_type": "stream",
          "name": "stdout",
          "text": [
            "Introduce un numero entero: 23\n",
            "el numero 23 es impar\n"
          ]
        }
      ]
    },
    {
      "cell_type": "markdown",
      "source": [
        "##Ejercicio 5:\n",
        "\n",
        "Para tributar un determinado impuesto se debe ser mayor de 16 años y tener unos ingresos iguales o superiores a 1000 € mensuales. Escribir un programa que pregunte al usuario su edad y sus ingresos mensuales y muestre por pantalla si el usuario tiene que tributar o no.\n",
        "\n",
        "\n"
      ],
      "metadata": {
        "id": "0C8tBXWNits7"
      }
    },
    {
      "cell_type": "code",
      "source": [
        "edad = int(input(\"Introduce la edad: \"))\n",
        "ingreso = float(input(\"Introduce el ingreso: \"))\n",
        "\n",
        "if edad> 16 and ingreso> 1000:\n",
        "   print(\"tienes \" + str(edad) + \" años \" + \" y tus ingresos son \" + str(ingreso) + \" $ \" + \" puedes tributar\")\n",
        "else:\n",
        "   print(\"tienes \" + str(edad) + \" años \" + \" y tus ingresos son \" + str(ingreso) + \" $ \" + \" no puedes tributar\")"
      ],
      "metadata": {
        "colab": {
          "base_uri": "https://localhost:8080/"
        },
        "id": "J4fFOMJMhwec",
        "outputId": "67ce06ce-59d8-41a2-adf3-0201c765c0e8"
      },
      "execution_count": null,
      "outputs": [
        {
          "output_type": "stream",
          "name": "stdout",
          "text": [
            "Introduce la edad: 20\n",
            "Introduce el ingreso: 800\n",
            "tienes 20 años  y tus ingresos son 800.0 $  no puedes tributar\n"
          ]
        }
      ]
    },
    {
      "cell_type": "markdown",
      "source": [
        "##Ejercicio 6:\n",
        "\n",
        "Los alumnos de un curso se han dividido en dos grupos A y B de acuerdo al sexo y el nombre. El grupo A esta formado por las mujeres con un nombre anterior a la M y los hombres con un nombre posterior a la N y el grupo B por el resto. Escribir un programa que pregunte al usuario su nombre y sexo, y muestre por pantalla el grupo que le corresponde."
      ],
      "metadata": {
        "id": "xB1kyUXalWj2"
      }
    },
    {
      "cell_type": "code",
      "source": [
        "\"\"\"name = input(\"¿Cómo te llamas? \")\n",
        "gender = input(\"¿Cuál es tu sexo (M o H)? \")\n",
        "if gender == \"M\":\n",
        "    if name.lower() < \"m\":\n",
        "        group = \"A\"\n",
        "    else:\n",
        "        group = \"B\"\n",
        "else:\n",
        "    if name.lower() > \"n\":\n",
        "        group = \"A\"\n",
        "    else:\n",
        "        group = \"B\"\n",
        "print(\"Tu grupo es \" + group)\"\"\"\n",
        "\n"
      ],
      "metadata": {
        "id": "6aTiev8akGG5",
        "colab": {
          "base_uri": "https://localhost:8080/",
          "height": 53
        },
        "outputId": "4a9235c7-6962-4215-a4e3-33f4a00523e8"
      },
      "execution_count": null,
      "outputs": [
        {
          "output_type": "execute_result",
          "data": {
            "application/vnd.google.colaboratory.intrinsic+json": {
              "type": "string"
            },
            "text/plain": [
              "'name = input(\"¿Cómo te llamas? \")\\ngender = input(\"¿Cuál es tu sexo (M o H)? \")\\nif gender == \"M\":\\n    if name.lower() < \"m\":\\n        group = \"A\"\\n    else:\\n        group = \"B\"\\nelse:\\n    if name.lower() > \"n\":\\n        group = \"A\"\\n    else:\\n        group = \"B\"\\nprint(\"Tu grupo es \" + group)'"
            ]
          },
          "metadata": {},
          "execution_count": 4
        }
      ]
    },
    {
      "cell_type": "code",
      "source": [
        "\"\"\"name = input(\"¿Cómo te llamas? \")\n",
        "gender = input(\"¿Cuál es tu sexo (M o H)? \")\n",
        "if (gender == \"M\" and name.lower() < 'm') or (gender == \"H\" and name.lower() > 'n'):\n",
        "    group = \"A\"\n",
        "else:\n",
        "    group = \"B\"\n",
        "print(\"Tu grupo es \" + group)\"\"\""
      ],
      "metadata": {
        "colab": {
          "base_uri": "https://localhost:8080/",
          "height": 53
        },
        "id": "L7JNWLb7YYaS",
        "outputId": "98d69dc2-9ab9-4fb5-8a15-acda791d065e"
      },
      "execution_count": null,
      "outputs": [
        {
          "output_type": "execute_result",
          "data": {
            "application/vnd.google.colaboratory.intrinsic+json": {
              "type": "string"
            },
            "text/plain": [
              "'name = input(\"¿Cómo te llamas? \")\\ngender = input(\"¿Cuál es tu sexo (M o H)? \")\\nif (gender == \"M\" and name.lower() < \\'m\\') or (gender == \"H\" and name.lower() > \\'n\\'):\\n    group = \"A\"\\nelse:\\n    group = \"B\"\\nprint(\"Tu grupo es \" + group)'"
            ]
          },
          "metadata": {},
          "execution_count": 5
        }
      ]
    },
    {
      "cell_type": "markdown",
      "source": [
        "##Ejercicio 7:\n",
        "\n",
        "Los tramos impositivos para la declaración de la renta en un determinado país son los siguientes:\n",
        "\n",
        "\n",
        "|         Renta          | Tipo impositivo |\n",
        "| :--------------------: | :-------------: |\n",
        "|    Menos de 10000€     |       5%        |\n",
        "| Entre 10000€ y 20000€  |       15%       |\n",
        "| Entre 20000€ y 35000€  |       20%       |\n",
        "| Entre 35000€ y 60000€  |       30%       |\n",
        "|     Más de 60000€      |       45%       |\n",
        "\n",
        "Escribir un programa que pregunte al usuario su renta anual y muestre por pantalla lo que tiene que pagar.\n"
      ],
      "metadata": {
        "id": "AnfBOwP1Y-e7"
      }
    },
    {
      "cell_type": "code",
      "source": [
        "renta = int(input(\"Introdusca tu renta anual: \"))\n",
        "\n",
        "if renta<10000:\n",
        "  impositivo = renta * 0.05\n",
        "  print(\"tu renta es de \" + str(renta) + \"$\" + \" y tienes que cancelar \" + str(impositivo) + \"$\")\n",
        "\n",
        "elif 10000 <= renta < 20000:\n",
        "  impositivo = renta * 0.15\n",
        "  print(\"tu renta es de \" + str(renta) + \"$\" + \" y tienes que cancelar \" + str(impositivo) + \"$\")\n",
        "\n",
        "elif 20000 <= renta < 35000:\n",
        "  impositivo = renta * 0.20\n",
        "  print(\"tu renta es de \" + str(renta) + \"$\" + \" y tienes que cancelar \" + str(impositivo) + \"$\")\n",
        "\n",
        "elif 35000 <= renta < 60000:\n",
        "  impositivo = renta * 0.30\n",
        "  print(\"tu renta es de \" + str(renta) + \"$\" + \" y tienes que cancelar \" + str(impositivo) + \"$\")\n",
        "\n",
        "else:\n",
        "  impositivo = renta * 0.45\n",
        "  print(\"tu renta es de \" + str(renta) + \"$\" + \" y tienes que cancelar \" + str(impositivo) + \"$\")\n",
        "\n",
        "\n",
        "\"\"\" 2 da opcion # Preguntar al usuario por la renta\n",
        "renta = float(input(\"¿Cuál es tu renta anual? \"))\n",
        "# Condicional para determinar el tipo impositivo dependiendo de la renta\n",
        "if renta < 10000:\n",
        "    tipo = 5\n",
        "elif renta < 20000:\n",
        "    tipo = 15\n",
        "elif renta < 35000:\n",
        "    tipo = 20\n",
        "elif renta < 60000:\n",
        "    tipo = 30\n",
        "else:\n",
        "    tipo = 45\n",
        "# Mostrar por pantalla el producto de la renta por el tipo impositivo\n",
        "print(\"Tienes que pagar \", renta * tipo / 100, \"€\", sep='') \"\"\"\n"
      ],
      "metadata": {
        "colab": {
          "base_uri": "https://localhost:8080/"
        },
        "id": "d6sHRM4-ZDvG",
        "outputId": "1704fa92-0187-4999-a6fd-5c60029d5e01"
      },
      "execution_count": null,
      "outputs": [
        {
          "output_type": "stream",
          "name": "stdout",
          "text": [
            "Introdusca tu renta anual: 9999\n",
            "tu renta es de 9999$ y tienes que cancelar 499.95000000000005$\n"
          ]
        }
      ]
    },
    {
      "cell_type": "markdown",
      "source": [
        "##Ejercicio 8:\n",
        "\n",
        "En una determinada empresa, sus empleados son evaluados al final de cada año. Los puntos que pueden obtener en la evaluación comienzan en 0.0 y pueden ir aumentando, traduciéndose en mejores beneficios. Los puntos que pueden conseguir los empleados pueden ser 0.0, 0.4, 0.6 o más, pero no valores intermedios entre las cifras mencionadas. A continuación se muestra una tabla con los niveles correspondientes a cada puntuación. La cantidad de dinero conseguida en cada nivel es de 2.400€ multiplicada por la puntuación del nivel.\n",
        "\n",
        "|    Nivel    | Puntuación |\n",
        "| :---------: | :--------: |\n",
        "| Inaceptable |    0.0     |\n",
        "|  Aceptable  |    0.4     |\n",
        "|  Meritorio  |    0.6     |\n",
        "\n",
        "\n",
        "Escribir un programa que lea la puntuación del usuario e indique su nivel de rendimiento, así como la cantidad de dinero que recibirá el usuario."
      ],
      "metadata": {
        "id": "8Z0glC4giBpq"
      }
    },
    {
      "cell_type": "code",
      "source": [
        "\n",
        "bono = 2400\n",
        "inaceptable = 0.0\n",
        "aceptable = 0.4\n",
        "meritorio = 0.6\n",
        "\n",
        "puntos= float(input(\"Ingrese la puntuacion del usuario : \"))\n",
        "\n",
        "if puntos == inaceptable:\n",
        "    nivel = \"Inaceptable\"\n",
        "elif puntos == aceptable:\n",
        "    nivel = \"Aceptable\"\n",
        "elif puntos >= 0.6:\n",
        "    nivel = \"Meritorio\"\n",
        "else:\n",
        "    nivel = \"\"\n",
        "# Mostrar nivel de rendimiento\n",
        "if nivel == \"\":\n",
        "    print(\"Esta puntuación no es válida\")\n",
        "else:\n",
        "    print(\"Tu nivel de rendimiento es %s\" % nivel)\n",
        "    print(\"Te corresponde cobrar %.2f€\" % (puntos * bono))\n",
        "\n"
      ],
      "metadata": {
        "colab": {
          "base_uri": "https://localhost:8080/"
        },
        "id": "Ycr4WCR9iKVD",
        "outputId": "53976fea-8170-44fe-ea8c-7f993c6e0684"
      },
      "execution_count": null,
      "outputs": [
        {
          "output_type": "stream",
          "name": "stdout",
          "text": [
            "Ingrese la puntuacion del usuario : 0.6\n",
            "Tu nivel de rendimiento es Meritorio\n",
            "Te corresponde cobrar 1440.00€\n"
          ]
        }
      ]
    },
    {
      "cell_type": "markdown",
      "source": [
        "# BUCLES"
      ],
      "metadata": {
        "id": "DNqOJA-WsKEy"
      }
    },
    {
      "cell_type": "markdown",
      "source": [
        "## Ejercicio 1:\n",
        "\n",
        "Escribir un programa que pida al usuario una palabra y la muestre por pantalla 10 veces."
      ],
      "metadata": {
        "id": "DQtfqKarsR-m"
      }
    },
    {
      "cell_type": "code",
      "source": [
        "palabra = input(\"inserte palabra: \")\n",
        "\n",
        "for i in range(10):\n",
        "  print(palabra)\n"
      ],
      "metadata": {
        "colab": {
          "base_uri": "https://localhost:8080/"
        },
        "id": "51odeSqUsM6o",
        "outputId": "425972e3-2b9b-44e2-ff0a-cb38286d8e71"
      },
      "execution_count": null,
      "outputs": [
        {
          "output_type": "stream",
          "name": "stdout",
          "text": [
            "inserte palabra: DATA\n",
            "DATA\n",
            "DATA\n",
            "DATA\n",
            "DATA\n",
            "DATA\n",
            "DATA\n",
            "DATA\n",
            "DATA\n",
            "DATA\n",
            "DATA\n"
          ]
        }
      ]
    },
    {
      "cell_type": "markdown",
      "source": [
        "## Ejercicio 2:\n",
        "\n",
        "Escribir un programa que pregunte al usuario su edad y muestre por pantalla todos los años que ha cumplido (desde 1 hasta su edad).\n",
        "\n",
        "\n"
      ],
      "metadata": {
        "id": "cH_SDiUlycmD"
      }
    },
    {
      "cell_type": "code",
      "source": [
        "edad = int(input(\"Ingrese su edad: \"))\n",
        "\n",
        "for i in range(edad):\n",
        "   print(\"Has cumplido \" + str(i+1) + \" años\")"
      ],
      "metadata": {
        "colab": {
          "base_uri": "https://localhost:8080/"
        },
        "id": "ocXRo3zpwtLA",
        "outputId": "fcb4101f-5c3c-4aab-dabb-7956d99d6a87"
      },
      "execution_count": null,
      "outputs": [
        {
          "output_type": "stream",
          "name": "stdout",
          "text": [
            "Ingrese su edad: 15\n",
            "Has cumplido 1 años\n",
            "Has cumplido 2 años\n",
            "Has cumplido 3 años\n",
            "Has cumplido 4 años\n",
            "Has cumplido 5 años\n",
            "Has cumplido 6 años\n",
            "Has cumplido 7 años\n",
            "Has cumplido 8 años\n",
            "Has cumplido 9 años\n",
            "Has cumplido 10 años\n",
            "Has cumplido 11 años\n",
            "Has cumplido 12 años\n",
            "Has cumplido 13 años\n",
            "Has cumplido 14 años\n",
            "Has cumplido 15 años\n"
          ]
        }
      ]
    },
    {
      "cell_type": "markdown",
      "source": [
        "## Ejercicio 3:\n",
        "\n",
        "Escribir un programa que pida al usuario un número entero positivo y muestre por pantalla todos los números impares desde 1 hasta ese número separados por comas.\n",
        "\n",
        "\n"
      ],
      "metadata": {
        "id": "ihyfpqlTzecZ"
      }
    },
    {
      "cell_type": "code",
      "source": [
        "num = int(input(\"Ingrese numero entero positivo: \"))\n",
        "\n",
        "for i in range(1,num+1,2):\n",
        "  print(i, end = \",\")"
      ],
      "metadata": {
        "colab": {
          "base_uri": "https://localhost:8080/"
        },
        "id": "l3x_zSdPzhID",
        "outputId": "9eca493b-54e3-4a28-b6e7-cb663e095455"
      },
      "execution_count": null,
      "outputs": [
        {
          "output_type": "stream",
          "name": "stdout",
          "text": [
            "Ingrese numero entero positivo: 9\n",
            "1,3,5,7,9,"
          ]
        }
      ]
    },
    {
      "cell_type": "markdown",
      "source": [
        "## Ejercicio 4:\n",
        "Escribir un programa que pida al usuario un número entero positivo y muestre por pantalla la cuenta atrás desde ese número hasta cero separados por comas.\n",
        "\n",
        "\n"
      ],
      "metadata": {
        "id": "7tvFgDHW2l65"
      }
    },
    {
      "cell_type": "code",
      "source": [
        "num = int(input(\"Ingrese numero entero positivo: \"))\n",
        "\n",
        "for i in range(num,-1,-1):\n",
        "  print(i, end = \",\")\n"
      ],
      "metadata": {
        "colab": {
          "base_uri": "https://localhost:8080/"
        },
        "id": "XNrlzpY62oRN",
        "outputId": "75ef92cc-7fcf-482a-b183-d9087937ceac"
      },
      "execution_count": null,
      "outputs": [
        {
          "output_type": "stream",
          "name": "stdout",
          "text": [
            "Ingrese numero entero positivo: 5\n",
            "5,4,3,2,1,0,"
          ]
        }
      ]
    },
    {
      "cell_type": "code",
      "source": [
        ""
      ],
      "metadata": {
        "id": "G2BjBRwgD-ps"
      },
      "execution_count": null,
      "outputs": []
    },
    {
      "cell_type": "markdown",
      "source": [
        "## Ejercicio 5:\n",
        "\n",
        "Escribir un programa que pregunte al usuario una cantidad a invertir, el interés anual y el número de años, y muestre por pantalla el capital obtenido en la inversión cada año que dura la inversión."
      ],
      "metadata": {
        "id": "ooWPLeQl3az8"
      }
    },
    {
      "cell_type": "code",
      "source": [
        "inversion = int(input(\"Ingrese cantidad a invertir: \"))\n",
        "interes = int(input(\"Ingrese interes anual: \"))\n",
        "años = int(input(\"Ingrese el numero de años: \"))\n",
        "\n",
        "for i in range(años):\n",
        "  inversion *= 1 + interes / 100 \n",
        "  print(\"Capital tras \" + str(i+1) + \" años: \" + str(round(inversion, 2)))\n"
      ],
      "metadata": {
        "colab": {
          "base_uri": "https://localhost:8080/"
        },
        "id": "Zx7yjkXV26NH",
        "outputId": "470dd7f8-bc30-4594-e7c4-4992e6a51f39"
      },
      "execution_count": null,
      "outputs": [
        {
          "output_type": "stream",
          "name": "stdout",
          "text": [
            "Ingrese cantidad a invertir: 1000\n",
            "Ingrese interes anual: 10\n",
            "Ingrese el numero de años: 3\n",
            "Capital tras 1 años: 1100.0\n",
            "Capital tras 2 años: 1210.0\n",
            "Capital tras 3 años: 1331.0\n"
          ]
        }
      ]
    }
  ]
}